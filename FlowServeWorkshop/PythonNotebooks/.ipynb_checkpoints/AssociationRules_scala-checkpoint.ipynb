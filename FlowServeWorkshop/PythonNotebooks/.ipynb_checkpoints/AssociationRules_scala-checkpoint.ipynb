{
 "cells": [
  {
   "cell_type": "markdown",
   "metadata": {},
   "source": [
    "##### FP Growth association rules is available only as a scala API"
   ]
  },
  {
   "cell_type": "code",
   "execution_count": 3,
   "metadata": {
    "collapsed": false,
    "deletable": true,
    "editable": true
   },
   "outputs": [
    {
     "name": "stdout",
     "output_type": "stream",
     "text": [
      "import org.apache.spark.sql.types._"
     ]
    }
   ],
   "source": [
    "import org.apache.spark.mllib.fpm.FPGrowth\n",
    "import org.apache.spark.rdd.RDD\n",
    "import org.apache.spark.sql._\n",
    "import org.apache.spark.sql.types._"
   ]
  },
  {
   "cell_type": "code",
   "execution_count": 1,
   "metadata": {
    "collapsed": false,
    "deletable": true,
    "editable": true
   },
   "outputs": [
    {
     "name": "stdout",
     "output_type": "stream",
     "text": [
      "Starting Spark application\n"
     ]
    },
    {
     "data": {
      "text/html": [
       "<table>\n",
       "<tr><th>ID</th><th>YARN Application ID</th><th>Kind</th><th>State</th><th>Spark UI</th><th>Driver log</th><th>Current session?</th></tr><tr><td>2</td><td>application_1509639485426_0010</td><td>spark</td><td>idle</td><td><a target=\"_blank\" href=\"https://srramhdir.azurehdinsight.net/yarnui/hn/proxy/application_1509639485426_0010/\">Link</a></td><td><a target=\"_blank\" href=\"https://srramhdir.azurehdinsight.net/yarnui/10.0.0.7/node/containerlogs/container_1509639485426_0010_01_000001/livy\">Link</a></td><td>✔</td></tr></table>"
      ],
      "text/plain": [
       "<IPython.core.display.HTML object>"
      ]
     },
     "metadata": {},
     "output_type": "display_data"
    },
    {
     "name": "stdout",
     "output_type": "stream",
     "text": [
      "SparkSession available as 'spark'.\n",
      "res1: Array[String] = Array(20170718249904392,MISCELLANEOUS ENGINEERED PUMPS, 20170718249904392,\"HORIZ AXIALLY SPLIT, MULTISTAGE - HEAVY DUTY\", 20170807096039672,ANSI/ASME METALLIC SEALED, 20170315096039672,ANSI/ASME METALLIC SEALED)"
     ]
    }
   ],
   "source": [
    "val data = sc.textFile(\"adl://srramhdi.azuredatalakestore.net/clusters/srramhdir/HdiSamples/HdiSamples/mbadataset11\")\n",
    "val tx = data.filter(s => s.trim.split(\",\")(0) != \"TransactionID\")\n",
    "tx.take(4)"
   ]
  },
  {
   "cell_type": "markdown",
   "metadata": {},
   "source": [
    "#### Example of a reflection"
   ]
  },
  {
   "cell_type": "code",
   "execution_count": 4,
   "metadata": {
    "collapsed": false,
    "deletable": true,
    "editable": true,
    "scrolled": true
   },
   "outputs": [
    {
     "name": "stdout",
     "output_type": "stream",
     "text": [
      "schema: org.apache.spark.sql.types.StructType = StructType(StructField(transactionID,StringType,true), StructField(itemName,StringType,true))"
     ]
    }
   ],
   "source": [
    "val schemaString = \"transactionID,itemName\"\n",
    "val fields = schemaString.split(\",\").map(fieldName => StructField(fieldName,StringType, nullable = true))\n",
    "val schema = StructType(fields)"
   ]
  },
  {
   "cell_type": "code",
   "execution_count": 5,
   "metadata": {
    "collapsed": false,
    "deletable": true,
    "editable": true
   },
   "outputs": [
    {
     "name": "stdout",
     "output_type": "stream",
     "text": [
      "txDF: org.apache.spark.sql.DataFrame = [transactionID: string, itemName: string]"
     ]
    }
   ],
   "source": [
    "val rowRDD = tx.map(_.split(\",\")).map(attributes => Row(attributes(0),attributes(1)))\n",
    "val sqlContext = new SQLContext(sc)\n",
    "val txDF = sqlContext.createDataFrame(rowRDD,schema)"
   ]
  },
  {
   "cell_type": "code",
   "execution_count": 6,
   "metadata": {
    "collapsed": false,
    "deletable": true,
    "editable": true
   },
   "outputs": [
    {
     "name": "stdout",
     "output_type": "stream",
     "text": [
      "res2: Array[org.apache.spark.sql.Row] = Array([20170718249904392,MISCELLANEOUS ENGINEERED PUMPS], [20170718249904392,\"HORIZ AXIALLY SPLIT])"
     ]
    }
   ],
   "source": [
    "txDF.take(2)"
   ]
  },
  {
   "cell_type": "markdown",
   "metadata": {},
   "source": [
    "##### operations on a data frame a powerful way to convert transactions into market basket with a single line of code"
   ]
  },
  {
   "cell_type": "code",
   "execution_count": 7,
   "metadata": {
    "collapsed": false,
    "deletable": true,
    "editable": true
   },
   "outputs": [
    {
     "name": "stdout",
     "output_type": "stream",
     "text": [
      "txg: org.apache.spark.rdd.RDD[Array[String]] = MapPartitionsRDD[14] at rdd at <console>:49"
     ]
    }
   ],
   "source": [
    "val txg :RDD[Array[String]] = txDF.groupBy(\"transactionID\").agg(collect_set(\"itemName\").alias(\"items\")).select(\"items\").as[Array[String]].rdd\n",
    "/*.map(i => i(0).getString)*/"
   ]
  },
  {
   "cell_type": "code",
   "execution_count": 8,
   "metadata": {
    "collapsed": false,
    "deletable": true,
    "editable": true
   },
   "outputs": [
    {
     "name": "stdout",
     "output_type": "stream",
     "text": [
      "res5: Array[Array[String]] = Array(Array(ANSI/ASME METALLIC SEALED), Array(MISCELLANEOUS ENGINEERED PUMPS), Array(HORIZ.RADIALLY SPLIT DOUBLE SUCTION SINGLE STAGE, HORIZONTAL OVERHUNG SINGLE STAGE, PROGRESSIVE CAVITY, GEAR PUMPS, BARREL MULTISTAGE, MISCELLANEOUS ENGINEERED PUMPS), Array(MISCELLANEOUS ENGINEERED PUMPS))"
     ]
    }
   ],
   "source": [
    "txg.take(4)"
   ]
  },
  {
   "cell_type": "code",
   "execution_count": 9,
   "metadata": {
    "collapsed": false,
    "deletable": true,
    "editable": true
   },
   "outputs": [
    {
     "name": "stdout",
     "output_type": "stream",
     "text": [
      "model: org.apache.spark.mllib.fpm.FPGrowthModel[String] = org.apache.spark.mllib.fpm.FPGrowthModel@64ce99ac"
     ]
    }
   ],
   "source": [
    "import org.apache.spark.mllib.fpm.FPGrowth\n",
    "import org.apache.spark.rdd.RDD\n",
    "val fpg = new FPGrowth().setMinSupport(0.05).setNumPartitions(10)\n",
    "val model = fpg.run(txg)"
   ]
  },
  {
   "cell_type": "code",
   "execution_count": 10,
   "metadata": {
    "collapsed": false,
    "deletable": true,
    "editable": true
   },
   "outputs": [
    {
     "name": "stdout",
     "output_type": "stream",
     "text": [
      "[ANSI/ASME METALLIC SEALED], 12706\n",
      "[MISCELLANEOUS ENGINEERED PUMPS], 12232\n",
      "[MISCELLANEOUS ENGINEERED PUMPS,ANSI/ASME METALLIC SEALED], 2973\n",
      "[HORIZONTAL OVERHUNG SINGLE STAGE], 3696\n",
      "[HORIZONTAL OVERHUNG SINGLE STAGE,MISCELLANEOUS ENGINEERED PUMPS], 2188\n",
      "[GEAR PUMPS], 3595\n",
      "[GEAR PUMPS,MISCELLANEOUS ENGINEERED PUMPS], 1668\n",
      "[GEAR PUMPS,ANSI/ASME METALLIC SEALED], 2410\n",
      "[HORIZ SINGLE STG FRAME MOUNTED], 1874\n",
      "[ANSI/ASME NON-METALLIC SEALED], 1810\n",
      "[HORIZ AXIALLY SPLIT SINGLE STG LTE 12 INCHES], 1712\n",
      "[HORIZ.RADIALLY SPLIT DOUBLE SUCTION SINGLE STAGE], 1534"
     ]
    }
   ],
   "source": [
    "model.freqItemsets.collect().foreach { itemset =>\n",
    "  println(itemset.items.mkString(\"[\", \",\", \"]\") + \", \" + itemset.freq)\n",
    "}"
   ]
  },
  {
   "cell_type": "code",
   "execution_count": 11,
   "metadata": {
    "collapsed": false,
    "deletable": true,
    "editable": true
   },
   "outputs": [
    {
     "name": "stdout",
     "output_type": "stream",
     "text": [
      "[GEAR PUMPS] => [ANSI/ASME METALLIC SEALED], 0.6703755215577191\n",
      "[HORIZONTAL OVERHUNG SINGLE STAGE] => [MISCELLANEOUS ENGINEERED PUMPS], 0.591991341991342"
     ]
    }
   ],
   "source": [
    "val minConfidence = 0.5\n",
    "model.generateAssociationRules(minConfidence).collect().foreach { rule =>\n",
    "  println(\n",
    "    rule.antecedent.mkString(\"[\", \",\", \"]\")\n",
    "      + \" => \" + rule.consequent .mkString(\"[\", \",\", \"]\")\n",
    "      + \", \" + rule.confidence)\n",
    "}"
   ]
  },
  {
   "cell_type": "code",
   "execution_count": null,
   "metadata": {
    "collapsed": true,
    "deletable": true,
    "editable": true
   },
   "outputs": [],
   "source": []
  }
 ],
 "metadata": {
  "kernelspec": {
   "display_name": "Spark",
   "language": "",
   "name": "sparkkernel"
  },
  "language_info": {
   "codemirror_mode": "text/x-scala",
   "mimetype": "text/x-scala",
   "name": "scala",
   "pygments_lexer": "scala"
  }
 },
 "nbformat": 4,
 "nbformat_minor": 2
}
