{
 "cells": [
  {
   "cell_type": "code",
   "execution_count": null,
   "metadata": {
    "collapsed": false,
    "deletable": true,
    "editable": true
   },
   "outputs": [],
   "source": [
    "case class marketbasket (TransactionID: String, Itemname: String)"
   ]
  },
  {
   "cell_type": "code",
   "execution_count": 8,
   "metadata": {
    "collapsed": false,
    "deletable": true,
    "editable": true
   },
   "outputs": [
    {
     "name": "stdout",
     "output_type": "stream",
     "text": [
      "ds_mba: org.apache.spark.sql.Dataset[marketbasket] = [TransactionID: string, Itemname: string]"
     ]
    }
   ],
   "source": [
    "val df_mba = spark.read.format(\"csv\").option(\"header\", \"true\").option(\"mode\", \"DROPMALFORMED\").load(\"adl://srramhdi.azuredatalakestore.net/Files/mbadataset11\")        "
   ]
  },
  {
   "cell_type": "code",
   "execution_count": 9,
   "metadata": {
    "collapsed": false,
    "deletable": true,
    "editable": true
   },
   "outputs": [
    {
     "name": "stdout",
     "output_type": "stream",
     "text": [
      "marketbasket(20170718249904392,MISCELLANEOUS ENGINEERED PUMPS)\n",
      "marketbasket(20170718249904392,HORIZ AXIALLY SPLIT, MULTISTAGE - HEAVY DUTY)\n",
      "marketbasket(20170807096039672,ANSI/ASME METALLIC SEALED)\n",
      "marketbasket(20170315096039672,ANSI/ASME METALLIC SEALED)\n",
      "marketbasket(20170306096039672,MISCELLANEOUS ENGINEERED PUMPS)\n",
      "marketbasket(20170420096039672,ANSI/ASME METALLIC SEALED)\n",
      "marketbasket(20170406096039672,BARREL MULTISTAGE)\n",
      "marketbasket(20170616096039672,MISCELLANEOUS ENGINEERED PUMPS)\n",
      "marketbasket(20170619096039672,BARREL MULTISTAGE)\n",
      "marketbasket(20170619096039672,HORIZ.RADIALLY SPLIT DOUBLE SUCTION SINGLE STAGE)"
     ]
    }
   ],
   "source": [
    "ds_mba.take(10).foreach(println(_))"
   ]
  },
  {
   "cell_type": "code",
   "execution_count": 17,
   "metadata": {
    "collapsed": false,
    "deletable": true,
    "editable": true
   },
   "outputs": [
    {
     "name": "stdout",
     "output_type": "stream",
     "text": [
      "transformedDS: org.apache.spark.sql.Dataset[org.apache.spark.sql.Row] = [Itemname: string]"
     ]
    }
   ],
   "source": [
    "val transformedDS = ds_mba.select($\"Itemname\").where($\"TransactionID\".equalTo(\"20170619096039672\") )\n"
   ]
  },
  {
   "cell_type": "code",
   "execution_count": 22,
   "metadata": {
    "collapsed": false,
    "deletable": true,
    "editable": true
   },
   "outputs": [
    {
     "name": "stdout",
     "output_type": "stream",
     "text": [
      "+--------------------+\n",
      "|            Itemname|\n",
      "+--------------------+\n",
      "|   BARREL MULTISTAGE|\n",
      "|HORIZ.RADIALLY SP...|\n",
      "|ANSI/ASME METALLI...|\n",
      "+--------------------+"
     ]
    }
   ],
   "source": [
    "transformedDS.toDF().show()"
   ]
  },
  {
   "cell_type": "code",
   "execution_count": 21,
   "metadata": {
    "collapsed": false,
    "deletable": true,
    "editable": true
   },
   "outputs": [
    {
     "name": "stdout",
     "output_type": "stream",
     "text": [
      "res6: Array[org.apache.spark.sql.Row] = Array([BARREL MULTISTAGE], [HORIZ.RADIALLY SPLIT DOUBLE SUCTION SINGLE STAGE], [ANSI/ASME METALLIC SEALED])"
     ]
    }
   ],
   "source": [
    "transformedDS.rdd.take(3)"
   ]
  },
  {
   "cell_type": "code",
   "execution_count": 24,
   "metadata": {
    "collapsed": true,
    "deletable": true,
    "editable": true
   },
   "outputs": [],
   "source": [
    "ds_mba.createGlobalTempView(\"MarketbasketTable\")"
   ]
  },
  {
   "cell_type": "code",
   "execution_count": 36,
   "metadata": {
    "collapsed": false,
    "deletable": true,
    "editable": true
   },
   "outputs": [
    {
     "name": "stdout",
     "output_type": "stream",
     "text": [
      "mbarDD: org.apache.spark.rdd.RDD[String] = adl://srramhdi.azuredatalakestore.net/Files/mbadataset11 MapPartitionsRDD[64] at textFile at <console>:38"
     ]
    }
   ],
   "source": [
    "import spark.implicits._\n",
    "case class marketbasketdt (TransactionID: String, Itemname: String)\n",
    "// Create an RDD of Person objects from a text file, convert it to a Dataframe\n",
    "val mbarDD = sc.textFile(\"adl://srramhdi.azuredatalakestore.net/Files/mbadataset11\")\n",
    "  \n",
    " "
   ]
  },
  {
   "cell_type": "code",
   "execution_count": 37,
   "metadata": {
    "collapsed": false,
    "deletable": true,
    "editable": true
   },
   "outputs": [
    {
     "name": "stdout",
     "output_type": "stream",
     "text": [
      "mbaDF1: org.apache.spark.sql.DataFrame = [TransactionID: string, Itemname: string]"
     ]
    }
   ],
   "source": [
    " val mbaDF1 = mbarDD.map(_.split(\",\")).map(attributes => marketbasketdt(attributes(0).toString, attributes(1).trim.toString)).toDF()"
   ]
  },
  {
   "cell_type": "code",
   "execution_count": 39,
   "metadata": {
    "collapsed": false,
    "deletable": true,
    "editable": true
   },
   "outputs": [
    {
     "name": "stdout",
     "output_type": "stream",
     "text": [
      "+-----------------+--------------------+\n",
      "|    TransactionID|            Itemname|\n",
      "+-----------------+--------------------+\n",
      "|    TransactionID|            Itemname|\n",
      "|20170718249904392|MISCELLANEOUS ENG...|\n",
      "|20170718249904392|\"HORIZ AXIALLY SPLIT|\n",
      "|20170807096039672|ANSI/ASME METALLI...|\n",
      "+-----------------+--------------------+\n",
      "only showing top 4 rows"
     ]
    }
   ],
   "source": [
    "mbaDF1.show(4)"
   ]
  },
  {
   "cell_type": "code",
   "execution_count": 25,
   "metadata": {
    "collapsed": false,
    "deletable": true,
    "editable": true
   },
   "outputs": [
    {
     "name": "stdout",
     "output_type": "stream",
     "text": [
      "+-----------------+--------------------+\n",
      "|    TransactionID|            Itemname|\n",
      "+-----------------+--------------------+\n",
      "|20170619096039672|   BARREL MULTISTAGE|\n",
      "|20170619096039672|HORIZ.RADIALLY SP...|\n",
      "|20170619096039672|ANSI/ASME METALLI...|\n",
      "+-----------------+--------------------+"
     ]
    }
   ],
   "source": [
    "spark.sql(\"SELECT * FROM global_temp.MarketbasketTable WHERE TransactionID = '20170619096039672'\").show()"
   ]
  },
  {
   "cell_type": "code",
   "execution_count": 26,
   "metadata": {
    "collapsed": false,
    "deletable": true,
    "editable": true
   },
   "outputs": [
    {
     "name": "stderr",
     "output_type": "stream",
     "text": [
      "/anaconda3/envs/srramdemo/lib/python3.5/site-packages/autovizwidget/widget/utils.py:16: FutureWarning:\n",
      "\n",
      "pandas.lib is deprecated and will be removed in a future version.\n",
      "You can access infer_dtype as pandas.api.types.infer_dtype\n",
      "\n"
     ]
    },
    {
     "data": {
      "application/vnd.jupyter.widget-view+json": {
       "model_id": "12ebebfca5544720b965b5b77e877ecd"
      }
     },
     "metadata": {},
     "output_type": "display_data"
    },
    {
     "data": {
      "application/vnd.jupyter.widget-view+json": {
       "model_id": "3b046a1d6f034898ad7ec252e282504e"
      }
     },
     "metadata": {},
     "output_type": "display_data"
    }
   ],
   "source": [
    "%%sql\n",
    "SELECT * FROM global_temp.MarketbasketTable WHERE TransactionID = '20170619096039672'"
   ]
  },
  {
   "cell_type": "code",
   "execution_count": null,
   "metadata": {
    "collapsed": true,
    "deletable": true,
    "editable": true
   },
   "outputs": [],
   "source": []
  }
 ],
 "metadata": {
  "kernelspec": {
   "display_name": "Spark",
   "language": "",
   "name": "sparkkernel"
  },
  "language_info": {
   "codemirror_mode": "text/x-scala",
   "mimetype": "text/x-scala",
   "name": "scala",
   "pygments_lexer": "scala"
  }
 },
 "nbformat": 4,
 "nbformat_minor": 2
}
